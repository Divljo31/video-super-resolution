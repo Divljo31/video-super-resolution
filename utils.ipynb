{
 "cells": [
  {
   "cell_type": "code",
   "execution_count": 10,
   "id": "a25e35d8",
   "metadata": {},
   "outputs": [],
   "source": [
    "import numpy as np\n",
    "import torch\n",
    "import torch.nn.functional as F\n",
    "from torchvision.transforms.functional import normalize\n",
    "from torchmetrics import PeakSignalNoiseRatio\n",
    "import matplotlib.pyplot as plt\n",
    "from PIL import Image\n"
   ]
  },
  {
   "cell_type": "code",
   "execution_count": 18,
   "id": "8f7c6aaa",
   "metadata": {},
   "outputs": [],
   "source": [
    "# mean RGB values of div2k image set\n",
    "\n",
    "DIV2K_RGB_MEAN = np.array([0.4488, 0.4371, 0.4040]) * 255\n"
   ]
  },
  {
   "cell_type": "code",
   "execution_count": 17,
   "id": "d0678603",
   "metadata": {},
   "outputs": [],
   "source": [
    "# applying model to single/batch photos\n",
    "def resolve_single(model, lr):\n",
    "    lr = lr.unsqueeze(0)  # Add batch dimension\n",
    "    sr = resolve(model, lr)\n",
    "    return sr.squeeze(0)  # Remove batch dimension\n",
    "\n",
    "def resolve(model, lr_batch):\n",
    "    with torch.no_grad():\n",
    "        lr_batch = lr_batch.float()\n",
    "        sr_batch = model(lr_batch)\n",
    "        sr_batch = torch.clamp(sr_batch, 0, 255)\n",
    "        sr_batch = torch.round(sr_batch)\n",
    "        sr_batch = sr_batch.byte()\n",
    "    return sr_batch\n"
   ]
  },
  {
   "cell_type": "code",
   "execution_count": 5,
   "id": "e6cd98ba",
   "metadata": {},
   "outputs": [],
   "source": [
    "def evaluate(model, dataloader):\n",
    "    psnr_values = []\n",
    "    psnr_metric = PeakSignalNoiseRatio(data_range=255.0)\n",
    "    for lr, hr in dataloader:\n",
    "        sr = resolve(model, lr)\n",
    "        psnr_value = psnr_metric(hr, sr).item()\n",
    "        psnr_values.append(psnr_value)\n",
    "    return np.mean(psnr_values)\n"
   ]
  },
  {
   "cell_type": "code",
   "execution_count": 14,
   "id": "72e7cb25",
   "metadata": {},
   "outputs": [],
   "source": [
    "def normalize(x, rgb_mean=DIV2K_RGB_MEAN):\n",
    "    return (x - torch.tensor(rgb_mean)) / 127.5\n",
    "\n",
    "def denormalize(x, rgb_mean=DIV2K_RGB_MEAN):\n",
    "    return x * 127.5 + torch.tensor(rgb_mean)\n",
    "\n",
    "def normalize_01(x):\n",
    "    \"\"\"Normalizes RGB images to [0, 1].\"\"\"\n",
    "    return x / 255.0\n",
    "\n",
    "def normalize_m11(x):\n",
    "    \"\"\"Normalizes RGB images to [-1, 1].\"\"\"\n",
    "    return x / 127.5 - 1\n",
    "\n",
    "def denormalize_m11(x):\n",
    "    \"\"\"Inverse of normalize_m11.\"\"\"\n",
    "    return (x + 1) * 127.5\n"
   ]
  },
  {
   "cell_type": "code",
   "execution_count": 15,
   "id": "705f34cf",
   "metadata": {},
   "outputs": [],
   "source": [
    "def psnr(x1, x2):\n",
    "    psnr_metric = PeakSignalNoiseRatio(data_range=255.0)\n",
    "    return psnr_metric(x1, x2)\n",
    "def pixel_shuffle(scale):\n",
    "    return torch.nn.PixelShuffle(scale)\n"
   ]
  },
  {
   "cell_type": "code",
   "execution_count": 16,
   "id": "044a4a31",
   "metadata": {},
   "outputs": [],
   "source": [
    "def load_image(path):\n",
    "    return np.array(Image.open(path))\n",
    "\n",
    "\n",
    "def plot_sample(lr, sr):\n",
    "    plt.figure(figsize=(20, 10))\n",
    "\n",
    "    images = [lr, sr]\n",
    "    titles = ['LR', f'SR (x{sr.shape[0] // lr.shape[0]})']\n",
    "\n",
    "    for i, (img, title) in enumerate(zip(images, titles)):\n",
    "        plt.subplot(1, 2, i+1)\n",
    "        plt.imshow(img)\n",
    "        plt.title(title)\n",
    "        plt.xticks([])\n",
    "        plt.yticks([])"
   ]
  }
 ],
 "metadata": {
  "kernelspec": {
   "display_name": "Python 3 (ipykernel)",
   "language": "python",
   "name": "python3"
  },
  "language_info": {
   "codemirror_mode": {
    "name": "ipython",
    "version": 3
   },
   "file_extension": ".py",
   "mimetype": "text/x-python",
   "name": "python",
   "nbconvert_exporter": "python",
   "pygments_lexer": "ipython3",
   "version": "3.10.12"
  }
 },
 "nbformat": 4,
 "nbformat_minor": 5
}
